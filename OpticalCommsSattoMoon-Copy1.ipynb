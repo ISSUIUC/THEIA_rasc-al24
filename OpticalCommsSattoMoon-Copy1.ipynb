{
 "cells": [
  {
   "cell_type": "code",
   "execution_count": null,
   "id": "376997b5-e744-434c-92da-b8fb8701921b",
   "metadata": {},
   "outputs": [],
   "source": [
    "## This is the link margin for a 10 gigbit optical link between the two satelites in lunar orbit"
   ]
  },
  {
   "cell_type": "code",
   "execution_count": 15,
   "id": "c0c8209e-3d9b-4985-b248-5d673d8ba939",
   "metadata": {
    "tags": []
   },
   "outputs": [],
   "source": [
    "#https://www.mathworks.com/help/satcom/ug/optical_satellite_communication_link_budget_analysis.html\n",
    "#https://citeseerx.ist.psu.edu/document?repid=rep1&type=pdf&doi=c7b5a1ca0fba82f95f9d17e927f76a8b5f46ccfa\n",
    "#https://ntrs.nasa.gov/api/citations/20200001534/downloads/20200001534.pdf\n",
    "\n",
    "import numpy as np\n",
    "\n",
    "#Inputs\n",
    "sat_power = 1 #watts\n",
    "gs_power = 1 #watts\n",
    "Preq = -7.8 # Required signal power in dB\n",
    "gs_ApertureDiameter = .1      # Antenna aperture diameter in m\n",
    "satA_ApertureDiameter = .1 # Antenna aperture diameter in m\n",
    "updistance = 20000000 #m\n",
    "downdistance = 20000000 #m\n",
    "\n",
    "\n",
    "satPtx = 10*np.log10(sat_power) # Transmitted power in dB\n",
    "gsPtx = 10*np.log10(gs_power) # Transmitted power in dB\n",
    "\n",
    "\n",
    "gs_ApertureDiameter = .1     # Antenna aperture diameter in m\n",
    "gs_PointingError = 10**(-6)  # Pointing error in rad\n",
    "\n",
    "satA_OpticsEfficiency = 0.8  # Optical antenna efficiency\n",
    "gs_OpticsEfficiency = 0.8\n",
    "satA_PointingError = 10**(-6)    # Pointing error in rad\n",
    "\n",
    "link_Wavelength = 1550*(10**(-9))    # m\n",
    "\n",
    "RxdBphs = 72.12 #dB Gain from single photon dectors\n",
    "\n"
   ]
  },
  {
   "cell_type": "code",
   "execution_count": 16,
   "id": "1ca18f3e-38a6-45dc-a2d9-19cbf1eb932d",
   "metadata": {
    "tags": []
   },
   "outputs": [
    {
     "name": "stdout",
     "output_type": "stream",
     "text": [
      "Link margin for uplink is 5.699545967450874  dB\n"
     ]
    }
   ],
   "source": [
    "#Uplink\n",
    "uptxGain = (np.pi*gs_ApertureDiameter/link_Wavelength)**2\n",
    "upGtx = 10*np.log10(uptxGain) # in dB\n",
    "uprxGain = (np.pi*satA_ApertureDiameter/link_Wavelength)**2\n",
    "upGrx = 10*np.log10(uprxGain) # in dB\n",
    "uptxPointingLoss = 4.3429*(uptxGain*(gs_PointingError)**2)\n",
    "uprxPointingLoss = 4.3429*(uprxGain*(satA_PointingError)**2)\n",
    "\n",
    "uppathLoss = 20 * np.log10((4*np.pi*updistance)/link_Wavelength)\n",
    "\n",
    "# Calculate link margin for uplink or downlink in dB\n",
    "uplinkMargin = gsPtx + 10*np.log10(gs_OpticsEfficiency) + 10*np.log10(satA_OpticsEfficiency) + upGtx + upGrx - uptxPointingLoss - uprxPointingLoss - uppathLoss - Preq + RxdBphs                                  \n",
    "print(\"Link margin for uplink is\", uplinkMargin,\" dB\")"
   ]
  },
  {
   "cell_type": "code",
   "execution_count": 17,
   "id": "d8054891-7b4f-4ecd-8226-95f32d4b08b0",
   "metadata": {},
   "outputs": [
    {
     "name": "stdout",
     "output_type": "stream",
     "text": [
      "Link margin for downlink is 5.699545967450874  dB\n"
     ]
    }
   ],
   "source": [
    "#Downlink\n",
    "downtxGain = (np.pi*satA_ApertureDiameter/link_Wavelength)**2\n",
    "downGtx = 10*np.log10(downtxGain) # in dB\n",
    "downrxGain = (np.pi*gs_ApertureDiameter/link_Wavelength)**2\n",
    "downGrx = 10*np.log10(downrxGain) # in dB\n",
    "downtxPointingLoss = 4.3429*(downtxGain*(satA_PointingError)**2)\n",
    "downrxPointingLoss = 4.3429*(downrxGain*(gs_PointingError)**2)\n",
    "\n",
    "downpathLoss = 20 * np.log10((4*np.pi*downdistance)/link_Wavelength)\n",
    "\n",
    "# Calculate link margin for uplink or downlink in dB\n",
    "downlinkMargin = satPtx + 10*np.log10(satA_OpticsEfficiency) + 10*np.log10(gs_OpticsEfficiency) + downGtx + downGrx - downtxPointingLoss - downrxPointingLoss - downpathLoss - Preq + RxdBphs                                   \n",
    "print(\"Link margin for downlink is\", downlinkMargin,\" dB\")"
   ]
  },
  {
   "cell_type": "code",
   "execution_count": null,
   "id": "ba4f9df9-b630-4cfa-bf16-295c2c9dd9cb",
   "metadata": {},
   "outputs": [],
   "source": []
  }
 ],
 "metadata": {
  "kernelspec": {
   "display_name": "Python 3 (ipykernel)",
   "language": "python",
   "name": "python3"
  },
  "language_info": {
   "codemirror_mode": {
    "name": "ipython",
    "version": 3
   },
   "file_extension": ".py",
   "mimetype": "text/x-python",
   "name": "python",
   "nbconvert_exporter": "python",
   "pygments_lexer": "ipython3",
   "version": "3.11.5"
  }
 },
 "nbformat": 4,
 "nbformat_minor": 5
}
