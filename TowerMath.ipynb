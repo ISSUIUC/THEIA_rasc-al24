{
 "cells": [
  {
   "cell_type": "code",
   "execution_count": 56,
   "id": "fc54ea86-754d-4d08-93ad-1b8a1e6e259c",
   "metadata": {
    "tags": []
   },
   "outputs": [],
   "source": [
    "import numpy as np\n",
    "\n",
    "#parameters \n",
    "unit_coverage = 19000 #m\n",
    "coverage_angle = 1.7 #degrees\n",
    "coverage_margin = 10 #degrees\n",
    "overlap = 0.05 #%\n",
    "\n",
    "moon_radius = 1736000 #m\n",
    "\n"
   ]
  },
  {
   "cell_type": "code",
   "execution_count": 57,
   "id": "58fb30cd-0763-4298-b33c-f9405869926e",
   "metadata": {
    "tags": []
   },
   "outputs": [
    {
     "name": "stdout",
     "output_type": "stream",
     "text": [
      "The height required to achieve a coverage of  19000 meters is  103.98399637779221 m\n"
     ]
    }
   ],
   "source": [
    "#height calc\n",
    "a = np.sqrt(moon_radius**2-unit_coverage**2)\n",
    "b = moon_radius - a\n",
    "theta = np.arctan(a/unit_coverage)\n",
    "phi = (np.pi/2) - theta\n",
    "c = moon_radius / np.cos(phi)\n",
    "height = c - moon_radius\n",
    "print(\"The height required to achieve a coverage of \", unit_coverage, \"meters is \", height, \"m\")"
   ]
  },
  {
   "cell_type": "code",
   "execution_count": null,
   "id": "6dbd8144-9cb0-446a-8239-b16ae0bd2245",
   "metadata": {
    "tags": []
   },
   "outputs": [],
   "source": []
  },
  {
   "cell_type": "code",
   "execution_count": null,
   "id": "2260c1cc-b37d-48a5-9244-6cf9c92a5651",
   "metadata": {},
   "outputs": [],
   "source": []
  }
 ],
 "metadata": {
  "kernelspec": {
   "display_name": "Python 3 (ipykernel)",
   "language": "python",
   "name": "python3"
  },
  "language_info": {
   "codemirror_mode": {
    "name": "ipython",
    "version": 3
   },
   "file_extension": ".py",
   "mimetype": "text/x-python",
   "name": "python",
   "nbconvert_exporter": "python",
   "pygments_lexer": "ipython3",
   "version": "3.11.5"
  }
 },
 "nbformat": 4,
 "nbformat_minor": 5
}
