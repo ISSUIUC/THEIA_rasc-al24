{
 "cells": [
  {
   "cell_type": "code",
   "execution_count": null,
   "id": "e250905c-6b8b-4d1a-b8f3-adc391e246c3",
   "metadata": {},
   "outputs": [],
   "source": [
    "# This is the link margin for a 1 gigbit RF link between a satelite in lunar orbit and the DSN"
   ]
  },
  {
   "cell_type": "code",
   "execution_count": 1,
   "id": "36e6ebcc-2a95-49a1-9a6f-9264b8599005",
   "metadata": {
    "tags": []
   },
   "outputs": [],
   "source": [
    "import numpy as np\n",
    "\n",
    "#parameters\n",
    "Freq = 28650 #MHz\n",
    "minDist = 351374.5573 #km\n",
    "maxDist = 406679.3002 #km\n",
    "\n",
    "coaxLen1 = 10 #m\n",
    "coaxLossRate1 = 3 #dB/100m\n",
    "TXpow1 = 50 #W\n",
    "RXsense1 = -84 #dBm\n",
    "gain1 = 37 #dBi\n",
    "\n",
    "coaxLen2 = 100 #m\n",
    "coaxLossRate2 = 4 #dB/100m\n",
    "TXpow2 = 300 #W\n",
    "RXsense2 = -80 #dBm\n",
    "gain2 = 80 #dBi"
   ]
  },
  {
   "cell_type": "code",
   "execution_count": 2,
   "id": "ed061c17-0091-4f2a-9026-b34d23c1c1f0",
   "metadata": {
    "tags": []
   },
   "outputs": [],
   "source": [
    "#Free space path loss\n",
    "def fspl(d,v):\n",
    "    fspl = 20*np.log10(d)+20*np.log10(v) + 32.44\n",
    "    return fspl\n",
    "worstFSPL = fspl(maxDist,Freq)\n",
    "bestFSPL = fspl(minDist,Freq)"
   ]
  },
  {
   "cell_type": "code",
   "execution_count": 3,
   "id": "889e358b-1429-4a14-9d7d-2c0d9898868d",
   "metadata": {
    "tags": []
   },
   "outputs": [],
   "source": [
    "#radio 1\n",
    "coaxLoss1 = (coaxLossRate1/100)*coaxLen1\n",
    "TXpow1dBm = 10*np.log10(TXpow1)+30"
   ]
  },
  {
   "cell_type": "code",
   "execution_count": 4,
   "id": "6df08063-9365-440f-b743-f12e6ea0f494",
   "metadata": {
    "tags": []
   },
   "outputs": [],
   "source": [
    "#radio 2\n",
    "coaxLoss2 = (coaxLossRate2/100)*coaxLen2\n",
    "TXpow2dBm = 10*np.log10(TXpow2)+30"
   ]
  },
  {
   "cell_type": "code",
   "execution_count": 5,
   "id": "792dfc8f-6267-4fc3-a298-c87ef74917fb",
   "metadata": {
    "tags": []
   },
   "outputs": [
    {
     "name": "stdout",
     "output_type": "stream",
     "text": [
      "uplink best case 18.973313792242948  dB\n",
      "uplink worst case 17.70367866980098  dB\n",
      "downlink best case 7.191801288406509  dB\n",
      "downlink worst case 5.922166165964541  dB\n"
     ]
    }
   ],
   "source": [
    "#Link margin\n",
    "uplinkBest = (TXpow2dBm + gain2 + gain1) - (coaxLoss1 + coaxLoss2 + bestFSPL + RXsense1)\n",
    "uplinkWorst = (TXpow2dBm + gain2 + gain1) - (coaxLoss1 + coaxLoss2 + worstFSPL + RXsense1)\n",
    "downlinkBest = (TXpow1dBm + gain2 + gain1) - (coaxLoss1 + coaxLoss2 + bestFSPL + RXsense2)\n",
    "downlinkWorst = (TXpow1dBm + gain2 + gain1) - (coaxLoss1 + coaxLoss2 + worstFSPL + RXsense2)\n",
    "\n",
    "print(\"uplink best case\", uplinkBest,\" dB\")\n",
    "print(\"uplink worst case\", uplinkWorst,\" dB\")\n",
    "print(\"downlink best case\", downlinkBest,\" dB\")\n",
    "print(\"downlink worst case\", downlinkWorst,\" dB\")"
   ]
  },
  {
   "cell_type": "code",
   "execution_count": null,
   "id": "9317b83a-4d29-4b9b-9636-4fa07d4942ca",
   "metadata": {},
   "outputs": [],
   "source": []
  }
 ],
 "metadata": {
  "kernelspec": {
   "display_name": "Python 3 (ipykernel)",
   "language": "python",
   "name": "python3"
  },
  "language_info": {
   "codemirror_mode": {
    "name": "ipython",
    "version": 3
   },
   "file_extension": ".py",
   "mimetype": "text/x-python",
   "name": "python",
   "nbconvert_exporter": "python",
   "pygments_lexer": "ipython3",
   "version": "3.11.5"
  }
 },
 "nbformat": 4,
 "nbformat_minor": 5
}
