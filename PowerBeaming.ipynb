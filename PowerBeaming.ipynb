{
 "cells": [
  {
   "cell_type": "code",
   "execution_count": 72,
   "id": "c0c8209e-3d9b-4985-b248-5d673d8ba939",
   "metadata": {
    "tags": []
   },
   "outputs": [],
   "source": [
    "#https://www.mathworks.com/help/satcom/ug/optical_satellite_communication_link_budget_analysis.html\n",
    "#https://citeseerx.ist.psu.edu/document?repid=rep1&type=pdf&doi=c7b5a1ca0fba82f95f9d17e927f76a8b5f46ccfa\n",
    "#https://www.sciencedirect.com/science/article/pii/S2542435121005407\n",
    "#https://www.rp-photonics.com/beam_divergence.html\n",
    "import numpy as np\n",
    "\n",
    "\n",
    "power = 90000 #watts\n",
    "\n",
    "\n",
    "# Configure the ground station, satellites, and link characteristics\n",
    "# Set the ground station characteristics with parabolic telescope\n",
    "gs_Height = 1               # Height above the mean sea level in km\n",
    "gs_OpticsEfficiency = 0.6    # Optical antenna efficiency\n",
    "gs_ApertureDiameter = 0.1     # Antenna aperture diameter in m\n",
    "\n",
    "# Set the satellite A characteristics with parabolic telescope\n",
    "satA_OpticsEfficiency = 0.37  # Optical antenna efficiency\n",
    "satA_ApertureDiameter = 0.2 # Antenna aperture diameter in m\n",
    "\n",
    "\n",
    "\n",
    "# Set the link characteristics\n",
    "link_Wavelength = 850*(10**(-9))    # m\n",
    "beameff = 0.84\n",
    "M2 = 1.89\n"
   ]
  },
  {
   "cell_type": "code",
   "execution_count": 74,
   "id": "1ca18f3e-38a6-45dc-a2d9-19cbf1eb932d",
   "metadata": {
    "tags": []
   },
   "outputs": [
    {
     "name": "stdout",
     "output_type": "stream",
     "text": [
      "power recieved is 16783.2  watts\n"
     ]
    }
   ],
   "source": [
    "#Uplink\n",
    "# Calculate transmitter and receiver pointing loss in dB\n",
    "\n",
    "updistance = 19000 #m\n",
    "def powerRecieved(d):\n",
    "    rspot = gs_ApertureDiameter + np.tan((M2)*link_Wavelength/(np.pi*gs_ApertureDiameter))*d\n",
    "\n",
    "    if (rspot <= satA_ApertureDiameter):\n",
    "        uppathloss = 1*beameff\n",
    "    else:\n",
    "        uppathloss = (satA_ApertureDiameter/rspot)*beameff\n",
    "    # Calculate link margin for uplink or downlink in dB                                 \n",
    "    powerRecieved = power*gs_OpticsEfficiency*satA_OpticsEfficiency*uppathloss\n",
    "    return powerRecieved\n",
    "\n",
    "print(\"power recieved is\", powerRecieved(updistance),\" watts\")"
   ]
  },
  {
   "cell_type": "code",
   "execution_count": null,
   "id": "d8054891-7b4f-4ecd-8226-95f32d4b08b0",
   "metadata": {},
   "outputs": [],
   "source": []
  },
  {
   "cell_type": "code",
   "execution_count": null,
   "id": "7f2b3755-a912-4c41-875e-dd094de74a67",
   "metadata": {},
   "outputs": [],
   "source": []
  }
 ],
 "metadata": {
  "kernelspec": {
   "display_name": "Python 3 (ipykernel)",
   "language": "python",
   "name": "python3"
  },
  "language_info": {
   "codemirror_mode": {
    "name": "ipython",
    "version": 3
   },
   "file_extension": ".py",
   "mimetype": "text/x-python",
   "name": "python",
   "nbconvert_exporter": "python",
   "pygments_lexer": "ipython3",
   "version": "3.11.5"
  }
 },
 "nbformat": 4,
 "nbformat_minor": 5
}
