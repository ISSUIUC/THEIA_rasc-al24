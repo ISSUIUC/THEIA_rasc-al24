{
 "cells": [
  {
   "cell_type": "markdown",
   "metadata": {},
   "source": [
    "Import Packages"
   ]
  },
  {
   "cell_type": "code",
   "execution_count": 3,
   "metadata": {},
   "outputs": [],
   "source": [
    "import numpy as np"
   ]
  },
  {
   "cell_type": "markdown",
   "metadata": {},
   "source": [
    "Define Constants"
   ]
  },
  {
   "cell_type": "code",
   "execution_count": 34,
   "metadata": {},
   "outputs": [],
   "source": [
    "# surface emissivities\n",
    "e_2 = 0.9\n",
    "e_1_OM = 0.0008\n",
    "e_1_H = 0.23\n",
    "e_i = 0.075\n",
    "e_o = 0.23\n",
    "\n",
    "# thermal conductivities\n",
    "k_OM = 1.4e-3\n",
    "k_i = 14.3\n",
    "k_o = 36\n",
    "\n",
    "# geometric quantities\n",
    "A_1 = 93.93/2\n",
    "A_2 = 136.52/2\n",
    "R_1 = 2.17\n",
    "R_2 = 3.3\n",
    "R = R_2/R_1\n",
    "\n",
    "# temperatures\n",
    "T_H = 20.4\n",
    "T_O = 79\n",
    "T_M = 98\n",
    "T_2 = 327.15\n",
    "\n",
    "# constants\n",
    "sigma = 5.67e-8"
   ]
  },
  {
   "cell_type": "markdown",
   "metadata": {},
   "source": [
    "Calculate driving potentials"
   ]
  },
  {
   "cell_type": "code",
   "execution_count": 23,
   "metadata": {},
   "outputs": [],
   "source": [
    "d_E_H = sigma*(T_2**4-T_H**4)\n",
    "d_E_O = sigma*(T_2**4-T_O**4)\n",
    "d_E_M = sigma*(T_2**4-T_M**4)"
   ]
  },
  {
   "cell_type": "markdown",
   "metadata": {},
   "source": [
    "Calculate Resistances"
   ]
  },
  {
   "cell_type": "code",
   "execution_count": 43,
   "metadata": {},
   "outputs": [],
   "source": [
    "# tank, external surface resistances\n",
    "R_s_1_H = (1-e_1_H)/(e_1_H*A_1)\n",
    "R_s_1_OM = (1-e_1_OM)/(e_1_OM*A_2)\n",
    "R_s_2= (1-e_2)/(e_2*A_2)\n",
    "\n",
    "# geometric resistance \n",
    "F_12 = 1/2\n",
    "F_21 = 1/R**2\n",
    "F_1R = 1/2\n",
    "\n",
    "rho = 1/2 - 1/np.pi*(np.sqrt(R**2 -1) - (R**2 - 2)*np.arcsin(1/R))\n",
    "F_22 = 1/2*(1-(1-rho)/R**2)\n",
    "F_2R = 1 - F_21 - F_22\n",
    "\n",
    "R_g = 1/(A_2*F_21 + 1/(1/(A_1*F_1R) + 1/(A_2*F_2R)))\n",
    "\n",
    "# tank wall resistances\n",
    "R_tank_s_i = (1-e_i)/(e_i*A_1)\n",
    "R_tank_g = 1/A_1\n",
    "R_tank_s_o = (1-e_o)/(e_o*A_1)\n",
    "R_c_i = 1/(k_i*A_1)\n",
    "R_c_o = 1/(k_o/A_1)\n",
    "R_c_H = R_c_i + R_tank_s_i + R_tank_g + R_tank_s_o + R_c_o\n",
    "R_c_OM = 1/(k_OM*A_1)\n",
    "\n",
    "# total resistances\n",
    "R_t_H = R_c_H + R_s_1_H + R_g + R_s_2\n",
    "R_t_OM = R_c_OM + R_s_1_OM + R_g + R_s_2"
   ]
  },
  {
   "cell_type": "markdown",
   "metadata": {},
   "source": [
    "Calculate heat rates"
   ]
  },
  {
   "cell_type": "code",
   "execution_count": 44,
   "metadata": {},
   "outputs": [],
   "source": [
    "# hydrogen\n",
    "q_1_H = d_E_H/R_t_H\n",
    "\n",
    "q_1_margin_H = 1.3*q_1_H\n",
    "\n",
    "# oxygen\n",
    "q_1_O = d_E_O/R_t_OM\n",
    "\n",
    "q_1_margin_O = 1.3*q_1_O\n",
    "\n",
    "# methane\n",
    "q_1_M = d_E_M/R_t_OM\n",
    "\n",
    "q_1_margin_M = 1.3*q_1_M"
   ]
  },
  {
   "cell_type": "markdown",
   "metadata": {},
   "source": [
    "Determine cryocooler power"
   ]
  },
  {
   "cell_type": "code",
   "execution_count": 45,
   "metadata": {},
   "outputs": [
    {
     "name": "stdout",
     "output_type": "stream",
     "text": [
      "Cryocooler Power, Hydrogen: 1705.7168358500787 W\n",
      "Cryocooler Power, Oxygen: 110.27170107870323 W\n",
      "Cryocooler Power, Methane 118.85748970435122 W\n",
      "Total Cryocooler Power 1934.846026633133 W\n"
     ]
    }
   ],
   "source": [
    "# carnot efficiencies\n",
    "max_c_eta_H = 1 - T_H/T_2\n",
    "max_c_eta_O = 1 - T_O/T_2\n",
    "max_c_eta_M = 1 - T_M/T_2\n",
    "\n",
    "# effective efficiences\n",
    "max_eff_eta_H = 0.3*max_c_eta_H\n",
    "max_eff_eta_O = 0.3*max_c_eta_O\n",
    "max_eff_eta_M = 0.3*max_c_eta_M\n",
    "\n",
    "# cryocooler powers\n",
    "P_cryo_H = q_1_margin_H/max_eff_eta_H\n",
    "P_cryo_O = q_1_margin_O/max_eff_eta_O\n",
    "P_cryo_M = q_1_margin_M/max_eff_eta_M\n",
    "\n",
    "print('Cryocooler Power, Hydrogen:', P_cryo_H, 'W')\n",
    "print('Cryocooler Power, Oxygen:', P_cryo_O, 'W')\n",
    "print('Cryocooler Power, Methane', P_cryo_M, 'W')\n",
    "\n",
    "# total power\n",
    "P_cryo_t = P_cryo_H + P_cryo_O + P_cryo_M\n",
    "\n",
    "print('Total Cryocooler Power', P_cryo_t, 'W')"
   ]
  }
 ],
 "metadata": {
  "kernelspec": {
   "display_name": "base",
   "language": "python",
   "name": "python3"
  },
  "language_info": {
   "codemirror_mode": {
    "name": "ipython",
    "version": 3
   },
   "file_extension": ".py",
   "mimetype": "text/x-python",
   "name": "python",
   "nbconvert_exporter": "python",
   "pygments_lexer": "ipython3",
   "version": "3.11.4"
  }
 },
 "nbformat": 4,
 "nbformat_minor": 2
}
