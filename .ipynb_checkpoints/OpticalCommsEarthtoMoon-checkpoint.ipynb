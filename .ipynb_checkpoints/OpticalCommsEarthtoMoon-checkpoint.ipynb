{
 "cells": [
  {
   "cell_type": "code",
   "execution_count": null,
   "id": "87e8867d-f2d7-42e6-a7eb-0318dc4333e4",
   "metadata": {},
   "outputs": [],
   "source": [
    "## This is the link margin for a 10 gigbit optical link between the earth and the moon"
   ]
  },
  {
   "cell_type": "code",
   "execution_count": 57,
   "id": "08c37390-bab7-4d6c-b2ad-21ba78de371f",
   "metadata": {
    "tags": []
   },
   "outputs": [],
   "source": [
    "#### https://www.mathworks.com/help/satcom/ug/optical_satellite_communication_link_budget_analysis.html\n",
    "#https://citeseerx.ist.psu.edu/document?repid=rep1&type=pdf&doi=c7b5a1ca0fba82f95f9d17e927f76a8b5f46ccfa\n",
    "#https://arxiv.org/pdf/2204.13177.pdf\n",
    "#https://ntrs.nasa.gov/api/citations/20200001534/downloads/20200001534.pdf\n",
    "\n",
    "import numpy as np\n",
    "\n",
    "#Inputs\n",
    "sat_power = 10 #watts\n",
    "gs_power = 10 #watts\n",
    "Preq = -7.8 # Required signal power in dB\n",
    "gs_ApertureDiameter = .3      # Antenna aperture diameter in m\n",
    "satA_ApertureDiameter = .3 # Antenna aperture diameter in m\n",
    "updistance = 406679000 #m\n",
    "downdistance = 406679000 #m\n",
    "\n",
    "\n",
    "satPtx = 10*np.log10(sat_power) # Transmitted power in dB\n",
    "gsPtx = 10*np.log10(gs_power) # Transmitted power in dB\n",
    "\n",
    "\n",
    "gs_ApertureDiameter = .3     # Antenna aperture diameter in m\n",
    "gs_PointingError = 10**(-6)  # Pointing error in rad\n",
    "\n",
    "satA_OpticsEfficiency = 0.8  # Optical antenna efficiency\n",
    "satA_PointingError = 10**(-6)    # Pointing error in rad\n",
    "\n",
    "link_Wavelength = 1550*(10**(-9))    # m\n",
    "\n",
    "RxdBphs = 72.12 #dB Gain from single photon dectors\n"
   ]
  },
  {
   "cell_type": "code",
   "execution_count": 58,
   "id": "1ca18f3e-38a6-45dc-a2d9-19cbf1eb932d",
   "metadata": {
    "tags": []
   },
   "outputs": [
    {
     "name": "stdout",
     "output_type": "stream",
     "text": [
      "Link margin for uplink is 5.765420945680475  dB\n"
     ]
    }
   ],
   "source": [
    "#Uplink\n",
    "uptxGain = (np.pi*gs_ApertureDiameter/link_Wavelength)**2\n",
    "upGtx = 10*np.log10(uptxGain) # in dB\n",
    "uprxGain = (np.pi*satA_ApertureDiameter/link_Wavelength)**2\n",
    "upGrx = 10*np.log10(uprxGain) # in dB\n",
    "uptxPointingLoss = 4.3429*(uptxGain*(gs_PointingError)**2)\n",
    "uprxPointingLoss = 4.3429*(uprxGain*(satA_PointingError)**2)\n",
    "\n",
    "uppathLoss = 20 * np.log10((4*np.pi*updistance)/link_Wavelength)\n",
    "\n",
    "# Calculate link margin for uplink or downlink in dB\n",
    "uplinkMargin = gsPtx + 10*np.log10(gs_OpticsEfficiency) + 10*np.log10(satA_OpticsEfficiency) + upGtx + upGrx - uptxPointingLoss - uprxPointingLoss - uppathLoss - Preq + RxdBphs                                  \n",
    "print(\"Link margin for uplink is\", uplinkMargin,\" dB\")"
   ]
  },
  {
   "cell_type": "code",
   "execution_count": 59,
   "id": "d8054891-7b4f-4ecd-8226-95f32d4b08b0",
   "metadata": {},
   "outputs": [
    {
     "name": "stdout",
     "output_type": "stream",
     "text": [
      "Link margin for downlink is 5.765420945680475  dB\n"
     ]
    }
   ],
   "source": [
    "#Downlink\n",
    "downtxGain = (np.pi*satA_ApertureDiameter/link_Wavelength)**2\n",
    "downGtx = 10*np.log10(downtxGain) # in dB\n",
    "downrxGain = (np.pi*gs_ApertureDiameter/link_Wavelength)**2\n",
    "downGrx = 10*np.log10(downrxGain) # in dB\n",
    "downtxPointingLoss = 4.3429*(downtxGain*(satA_PointingError)**2)\n",
    "downrxPointingLoss = 4.3429*(downrxGain*(gs_PointingError)**2)\n",
    "\n",
    "downpathLoss = 20 * np.log10((4*np.pi*downdistance)/link_Wavelength)\n",
    "\n",
    "# Calculate link margin for uplink or downlink in dB\n",
    "downlinkMargin = satPtx + 10*np.log10(satA_OpticsEfficiency) + 10*np.log10(gs_OpticsEfficiency) + downGtx + downGrx - downtxPointingLoss - downrxPointingLoss - downpathLoss - Preq + RxdBphs                                   \n",
    "print(\"Link margin for downlink is\", downlinkMargin,\" dB\")"
   ]
  },
  {
   "cell_type": "code",
   "execution_count": null,
   "id": "e03c1c06-c761-464b-9371-ae8a3a2812d0",
   "metadata": {},
   "outputs": [],
   "source": []
  }
 ],
 "metadata": {
  "kernelspec": {
   "display_name": "Python 3 (ipykernel)",
   "language": "python",
   "name": "python3"
  },
  "language_info": {
   "codemirror_mode": {
    "name": "ipython",
    "version": 3
   },
   "file_extension": ".py",
   "mimetype": "text/x-python",
   "name": "python",
   "nbconvert_exporter": "python",
   "pygments_lexer": "ipython3",
   "version": "3.11.5"
  }
 },
 "nbformat": 4,
 "nbformat_minor": 5
}
